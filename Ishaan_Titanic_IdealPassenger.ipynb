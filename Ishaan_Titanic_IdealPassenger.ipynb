{
 "cells": [
  {
   "cell_type": "markdown",
   "id": "f661a99e",
   "metadata": {},
   "source": [
    "# Titanic - The Ideal Passenger"
   ]
  },
  {
   "cell_type": "markdown",
   "id": "6d749dc9",
   "metadata": {},
   "source": [
    "April 14, 1912. You're on the Titanic, five minutes after the famous collision. As it grinds against the ice, every passenger on board is looking back on each factor that led them to be on the ship at that moment. Those same factors, now immortalized in the 887 entries of the titanic.csv dataset, will be what determines their fate in the next 24 hours. Through stastical analysis of the dataframe, we can synthesize the exact combination of factors that maximizes that chance of surival — and perhaps find the luckiest passenger on board along the way."
   ]
  },
  {
   "cell_type": "markdown",
   "id": "891a4164",
   "metadata": {},
   "source": [
    "## Setup\n",
    "Let's start by importing the basic libraries and data we'll be considering."
   ]
  },
  {
   "cell_type": "code",
   "execution_count": 30,
   "id": "b31e1987",
   "metadata": {},
   "outputs": [],
   "source": [
    "# Importing libraries:\n",
    "import numpy as np #computational ability\n",
    "import pandas as pd #data manipulation\n",
    "import seaborn as sns #data vizualization\n",
    "import matplotlib.pyplot as plt #data vizualization\n",
    "from IPython.display import display, Image\n",
    "%matplotlib inline\n",
    "\n",
    "# Disable warnings:\n",
    "import warnings\n",
    "warnings.filterwarnings(\"ignore\")\n",
    "\n",
    "# Declaring basic dataframe (spreadsheet) variables:\n",
    "data = pd.read_csv('train.csv')\n",
    "\n",
    "# Sorting the data into two dataframes, numerical and categorical:\n",
    "df_num = data[['Age','SibSp','Parch','Fare']]\n",
    "df_cat = data[['Survived','Pclass','Sex','Ticket','Cabin','Embarked']]"
   ]
  },
  {
   "cell_type": "markdown",
   "id": "1585d3ca",
   "metadata": {},
   "source": [
    "## Age\n",
    "We can use a pivot table to average out the data in the numerical columns for both survivors and victims."
   ]
  },
  {
   "cell_type": "code",
   "execution_count": 31,
   "id": "897d8eb1",
   "metadata": {},
   "outputs": [
    {
     "data": {
      "text/html": [
       "<div>\n",
       "<style scoped>\n",
       "    .dataframe tbody tr th:only-of-type {\n",
       "        vertical-align: middle;\n",
       "    }\n",
       "\n",
       "    .dataframe tbody tr th {\n",
       "        vertical-align: top;\n",
       "    }\n",
       "\n",
       "    .dataframe thead th {\n",
       "        text-align: right;\n",
       "    }\n",
       "</style>\n",
       "<table border=\"1\" class=\"dataframe\">\n",
       "  <thead>\n",
       "    <tr style=\"text-align: right;\">\n",
       "      <th></th>\n",
       "      <th>Age</th>\n",
       "    </tr>\n",
       "    <tr>\n",
       "      <th>Survived</th>\n",
       "      <th></th>\n",
       "    </tr>\n",
       "  </thead>\n",
       "  <tbody>\n",
       "    <tr>\n",
       "      <th>0</th>\n",
       "      <td>30.626179</td>\n",
       "    </tr>\n",
       "    <tr>\n",
       "      <th>1</th>\n",
       "      <td>28.343690</td>\n",
       "    </tr>\n",
       "  </tbody>\n",
       "</table>\n",
       "</div>"
      ],
      "text/plain": [
       "                Age\n",
       "Survived           \n",
       "0         30.626179\n",
       "1         28.343690"
      ]
     },
     "execution_count": 31,
     "metadata": {},
     "output_type": "execute_result"
    }
   ],
   "source": [
    "pd.pivot_table(data, index = 'Survived', values = ['Age'])"
   ]
  },
  {
   "cell_type": "markdown",
   "id": "13d81686",
   "metadata": {},
   "source": [
    "### Age: 28\n",
    "The mean age of the survivors was 28. This is the ideal age for our passenger."
   ]
  },
  {
   "cell_type": "markdown",
   "id": "6233d8f1",
   "metadata": {},
   "source": [
    "## Sex\n",
    "We know that our ideal passenger is 28 years old. Let's isolate the passengers around this age and see whether men or women survived more."
   ]
  },
  {
   "cell_type": "code",
   "execution_count": 32,
   "id": "fe8f7717",
   "metadata": {
    "scrolled": true
   },
   "outputs": [
    {
     "name": "stdout",
     "output_type": "stream",
     "text": [
      "Male: 21.0% Survival Rate\n",
      "Female: 73.0% Survival Rate\n"
     ]
    }
   ],
   "source": [
    "# Isolate only the passengers aged 26-30: \n",
    "ppl28 = data[data['Age']>25][df_num['Age']<31]\n",
    "\n",
    "# Calculate survival rates:\n",
    "print('Male: ' + str(round(((len(ppl28[ppl28['Sex']=='male'][ppl28['Survived']==1].index)/len(ppl28[ppl28['Sex']=='male'].index))*100), 0)) + '% Survival Rate')\n",
    "print('Female: ' + str(round(((len(ppl28[ppl28['Sex']=='female'][ppl28['Survived']==1].index)/len(ppl28[ppl28['Sex']=='female'].index))*100), 0)) + '% Survival Rate')"
   ]
  },
  {
   "cell_type": "markdown",
   "id": "deab6586",
   "metadata": {},
   "source": [
    "Female passengers were almost three times as likely to survive.\n",
    "### Sex: Female"
   ]
  },
  {
   "cell_type": "markdown",
   "id": "32608895",
   "metadata": {},
   "source": [
    "## Fare\n",
    "We want to see the average fare paid by survivors. However, the statistical mean is being skewed by a few high paying survivors, and the mode doesn't necessarily represent the data cluster. We will instead use the median to find the center of the data and our ideal fare."
   ]
  },
  {
   "cell_type": "code",
   "execution_count": 33,
   "id": "1d7b9159",
   "metadata": {},
   "outputs": [
    {
     "data": {
      "text/plain": [
       "26.0"
      ]
     },
     "execution_count": 33,
     "metadata": {},
     "output_type": "execute_result"
    }
   ],
   "source": [
    "round(data[data['Survived']==1].Fare, 0).median()"
   ]
  },
  {
   "cell_type": "markdown",
   "id": "f5ca5c91",
   "metadata": {},
   "source": [
    "### Fare: ~$26"
   ]
  },
  {
   "cell_type": "markdown",
   "id": "1002b5e3",
   "metadata": {},
   "source": [
    "## Number of Companions\n",
    "For each passegner, ParCh represents the number of parents/children traveling with them. For a younger passenger, a higher Parch would be a benefit as parents could help ensure their survival. However, as the age of the passenger increases, a higher ParCh becomes a liability as it becomes the passenger's responsibility to prioritize their family.\n",
    "\n",
    "Since we know the sex and age of our ideal passenger, we will isolate all the female passengers close to 28 years old. We will then calculate the survival rate for each possible ParCh value in the dataset."
   ]
  },
  {
   "cell_type": "code",
   "execution_count": 34,
   "id": "ed046338",
   "metadata": {},
   "outputs": [
    {
     "name": "stdout",
     "output_type": "stream",
     "text": [
      "0:\n",
      "83.0% Survival Rate\n",
      "\n",
      "2:\n",
      "100.0% Survival Rate\n",
      "\n",
      "1:\n",
      "20.0% Survival Rate\n",
      "\n",
      "4:\n",
      "0.0% Survival Rate\n",
      "\n",
      "Number of 28-year-old women with ParCh of two: 2 passengers.\n"
     ]
    }
   ],
   "source": [
    "# Isolate female passengers from previous dataframe:\n",
    "fem28 = ppl28[ppl28['Sex']=='female']\n",
    "\n",
    "# Calculate survival rates for each possible ParCh value:\n",
    "for i in fem28['Parch'].unique():\n",
    "    print(str(i) + ':')\n",
    "    print(str(round((((len(fem28[fem28['Parch']==i][fem28['Survived']==1].index))/(len(fem28[fem28['Parch']==i].index)))*100),0))+'% Survival Rate')\n",
    "    print()\n",
    "\n",
    "# Calculate sample size of ParCh=2\n",
    "print('Number of 28-year-old women with ParCh of two: ' + str(len(fem28[fem28['Parch']==2].index)) + ' passengers.')"
   ]
  },
  {
   "cell_type": "markdown",
   "id": "00581dc5",
   "metadata": {},
   "source": [
    "Although it looks like a ParCh value of 2 guarantees survival, a closer look at the data reveals that there were only two 28-year-old women with a ParCh of 2. This is not a large enough sample size to make a generalization about the population.\n",
    "\n",
    "Instead, let's repeat the process with the concatenated data fem28 sets where ParCh=1 and ParCh=2. This will show the real effect of ParCh on our survival rate."
   ]
  },
  {
   "cell_type": "code",
   "execution_count": 35,
   "id": "a6176cc3",
   "metadata": {},
   "outputs": [
    {
     "name": "stdout",
     "output_type": "stream",
     "text": [
      "Expanded ParCh Survival Rate: 43.0%\n"
     ]
    }
   ],
   "source": [
    "print('Expanded ParCh Survival Rate: '+str(round((((len(fem28[fem28['Parch']==1][fem28['Survived']==1].index)+len(fem28[fem28['Parch']==2][fem28['Survived']==1].index))/(len(fem28[fem28['Parch']==1].index)+len(fem28[fem28['Parch']==2].index)))*100),0))+'%')"
   ]
  },
  {
   "cell_type": "markdown",
   "id": "3174ac42",
   "metadata": {},
   "source": [
    "We can see that having no parents or children accompanying our passenger will almost double their chance of survival.\n",
    "### ParCh = 0"
   ]
  },
  {
   "cell_type": "markdown",
   "id": "0d7830fe",
   "metadata": {},
   "source": [
    "We can follow a similar process with SibSp."
   ]
  },
  {
   "cell_type": "code",
   "execution_count": 36,
   "id": "d10ed208",
   "metadata": {},
   "outputs": [
    {
     "name": "stdout",
     "output_type": "stream",
     "text": [
      "0:\n",
      "84.0% Survival Rate\n",
      "\n",
      "1:\n",
      "45.0% Survival Rate\n",
      "\n",
      "3:\n",
      "100.0% Survival Rate\n",
      "\n",
      "Number of 28-year-old women with SibSp of one: 11 passengers.\n",
      "Number of 28-year-old women with SibSp of three: 1 passengers.\n"
     ]
    }
   ],
   "source": [
    "# Calculate survival rates for each possible ParCh value:\n",
    "for i in fem28['SibSp'].unique():\n",
    "    print(str(i) + ':')\n",
    "    print(str(round((((len(fem28[fem28['SibSp']==i][fem28['Survived']==1].index))/(len(fem28[fem28['SibSp']==i].index)))*100),0))+'% Survival Rate')\n",
    "    print()\n",
    "\n",
    "# Calculate sample sizes of SibSp=1 and SibSp=3:\n",
    "print('Number of 28-year-old women with SibSp of one: ' + str(len(fem28[fem28['SibSp']==1].index)) + ' passengers.')\n",
    "print('Number of 28-year-old women with SibSp of three: ' + str(len(fem28[fem28['SibSp']==3].index)) + ' passengers.')"
   ]
  },
  {
   "cell_type": "markdown",
   "id": "647546ec",
   "metadata": {},
   "source": [
    "We have another sample size issue -- only one passenger had a SibSp equaling 3. We'll consider that passenger an outlier, and focus only one the eleven passengers with a SibSp value of 1. Just like with ParCh, it appears that a higher SibSp was a liability for 28-year-old women.\n",
    "### SibSp = 0"
   ]
  },
  {
   "cell_type": "markdown",
   "id": "149b5cea",
   "metadata": {},
   "source": [
    "## Title\n",
    "We can find the title of the passengers in the names from after the comma to before the period.\n",
    "\n",
    "Since our ideal passenger is female, we can disregard prefixes like 'Mr.' and focus only on relevant titles."
   ]
  },
  {
   "cell_type": "code",
   "execution_count": 37,
   "id": "f55971ec",
   "metadata": {
    "scrolled": true
   },
   "outputs": [
    {
     "name": "stdout",
     "output_type": "stream",
     "text": [
      "Mr: 16.0% Survival Rate\n",
      "Mrs: 79.0% Survival Rate\n",
      "Miss: 70.0% Survival Rate\n",
      "Master: 57.0% Survival Rate\n",
      "Don: 0.0% Survival Rate\n",
      "Rev: 0.0% Survival Rate\n",
      "Dr: 43.0% Survival Rate\n",
      "Mme: 100.0% Survival Rate\n",
      "Ms: 100.0% Survival Rate\n",
      "Major: 50.0% Survival Rate\n",
      "Lady: 100.0% Survival Rate\n",
      "Sir: 100.0% Survival Rate\n",
      "Mlle: 100.0% Survival Rate\n",
      "Col: 50.0% Survival Rate\n",
      "Capt: 0.0% Survival Rate\n",
      "the Countess: 100.0% Survival Rate\n",
      "Jonkheer: 0.0% Survival Rate\n",
      "\n",
      "Count of Mrs: 125 passengers.\n",
      "Count of Miss: 182 passengers.\n",
      "Count of Dr: 7 passengers.\n",
      "Count of Mme: 1 passengers.\n",
      "Count of Ms: 1 passengers.\n",
      "Count of Lady: 1 passengers.\n",
      "Count of Mlle: 2 passengers.\n",
      "Count of the Countess: 1 passengers.\n"
     ]
    }
   ],
   "source": [
    "# Isolate title from name:\n",
    "data['name_title'] = data.Name.apply(lambda x: x.split(',')[1].split('.')[0].strip())\n",
    "\n",
    "# Calculate survival rates for each title:\n",
    "for i in data['name_title'].unique():\n",
    "    print(str(i)+': ' + str(round((((len(data[data['name_title']==i][data['Survived']==1].index))/(len(data[data['name_title']==i].index)))*100),0))+'% Survival Rate')\n",
    "print()\n",
    "\n",
    "# Calculate sample sizes:\n",
    "print('Count of Mrs: ' + str(len(data[data['name_title']=='Mrs'].index)) + ' passengers.')\n",
    "print('Count of Miss: ' + str(len(data[data['name_title']=='Miss'].index)) + ' passengers.')  \n",
    "print('Count of Dr: ' + str(len(data[data['name_title']=='Dr'].index)) + ' passengers.')  \n",
    "print('Count of Mme: ' + str(len(data[data['name_title']=='Mme'].index)) + ' passengers.')\n",
    "print('Count of Ms: ' + str(len(data[data['name_title']=='Ms'].index)) + ' passengers.')\n",
    "print('Count of Lady: ' + str(len(data[data['name_title']=='Lady'].index)) + ' passengers.')\n",
    "print('Count of Mlle: ' + str(len(data[data['name_title']=='Mlle'].index)) + ' passengers.')\n",
    "print('Count of the Countess: ' + str(len(data[data['name_title']=='the Countess'].index)) + ' passengers.')\n"
   ]
  },
  {
   "cell_type": "markdown",
   "id": "7c59300a",
   "metadata": {},
   "source": [
    "We can only really consider the Mrs. and Miss titles. Let's do just that, and add the one Ms to Miss."
   ]
  },
  {
   "cell_type": "code",
   "execution_count": 38,
   "id": "fca8c8a6",
   "metadata": {},
   "outputs": [
    {
     "name": "stdout",
     "output_type": "stream",
     "text": [
      "Mrs: 79.0% Survival Rate\n",
      "Miss: 70.0% Survival Rate\n"
     ]
    }
   ],
   "source": [
    "print('Mrs: ' + str(round((((len(data[data['name_title']=='Mrs'][data['Survived']==1].index))/(len(data[data['name_title']=='Mrs'].index)))*100),0))+'% Survival Rate')\n",
    "print('Miss: ' + str(round((((len(data[data['name_title']=='Miss'][data['Survived']==1].index)+1)/(len(data[data['name_title']=='Miss'].index)+1))*100),0))+'% Survival Rate')"
   ]
  },
  {
   "cell_type": "markdown",
   "id": "e45ef134",
   "metadata": {},
   "source": [
    "Our ideal passenger will have the title of Mrs. This is s little ironic as we determined earlier that, in the sinking of the Titanic, having a spouse is a liability. Perhaps our passenger is widowed, and extremely devoted to her late husband.\n",
    "### Title: Mrs."
   ]
  },
  {
   "cell_type": "markdown",
   "id": "164d436e",
   "metadata": {},
   "source": [
    "## Ticket Class"
   ]
  },
  {
   "cell_type": "markdown",
   "id": "9147c000",
   "metadata": {},
   "source": [
    "There were three ticket classes for the passengers: 1, 2, and 3. Let's vizualize the distribution among the passengers as a barplot."
   ]
  },
  {
   "cell_type": "code",
   "execution_count": 39,
   "id": "0fbff1f3",
   "metadata": {},
   "outputs": [
    {
     "data": {
      "image/png": "[encoded data removed]",
      "text/plain": [
       "<Figure size 432x288 with 1 Axes>"
      ]
     },
     "metadata": {
      "needs_background": "light"
     },
     "output_type": "display_data"
    }
   ],
   "source": [
    "sns.barplot(x=df_cat['Pclass'].value_counts().index, y=df_cat['Pclass'].value_counts()).set_title('Passenger Class')\n",
    "plt.show()"
   ]
  },
  {
   "cell_type": "markdown",
   "id": "81af6a81",
   "metadata": {},
   "source": [
    "The majority of passengers were in third class. This might have been the ticket class for the lower socioeconomic class. Let's now calculate the survival rates for each class."
   ]
  },
  {
   "cell_type": "code",
   "execution_count": 40,
   "id": "1eef164b",
   "metadata": {},
   "outputs": [
    {
     "name": "stdout",
     "output_type": "stream",
     "text": [
      "Class [3]: 24.0% Survival Rate\n",
      "Class [1]: 63.0% Survival Rate\n",
      "Class [2]: 47.0% Survival Rate\n"
     ]
    }
   ],
   "source": [
    "for i in df_cat['Pclass'].unique():\n",
    "    print('Class '+str([i])+': '+str(round((((len(data[data['Pclass']==i][data['Survived']==1].index))/(len(data[data['Pclass']==i].index)))*100),0))+'% Survival Rate')"
   ]
  },
  {
   "cell_type": "markdown",
   "id": "f8167015",
   "metadata": {},
   "source": [
    "First Class had the highest survival rate. This will be the ideal ticket class for our passenger.\n",
    "### Ticket Class = 1"
   ]
  },
  {
   "cell_type": "markdown",
   "id": "1a34cbb4",
   "metadata": {},
   "source": [
    "## Cabin Section\n",
    "Each passenger had a different cabin, but they were grouped into different sections (A, B, C, etc.) that would have been close together. Let's organize our cabin numbers into their sections. We'll then make a bar plot like before."
   ]
  },
  {
   "cell_type": "code",
   "execution_count": 41,
   "id": "e4e6f566",
   "metadata": {},
   "outputs": [],
   "source": [
    "data['cabin_section'] = data.Cabin.apply(lambda x: str(x)[0])"
   ]
  },
  {
   "cell_type": "markdown",
   "id": "fcfdf15f",
   "metadata": {},
   "source": [
    "For some passengers, we don't have cabin data. Their section is showing up as 'n', which we can consider null. Let's clean these values from the data."
   ]
  },
  {
   "cell_type": "code",
   "execution_count": 42,
   "id": "1280bcb3",
   "metadata": {},
   "outputs": [],
   "source": [
    "cabin_count_won = data['cabin_section'][data['cabin_section'] != 'n'].reset_index(drop=True)"
   ]
  },
  {
   "cell_type": "markdown",
   "id": "5c5a7de5",
   "metadata": {},
   "source": [
    "Like before, let's make a bar plot visualization of the data to help with analysis."
   ]
  },
  {
   "cell_type": "code",
   "execution_count": 43,
   "id": "e98687d6",
   "metadata": {},
   "outputs": [
    {
     "data": {
      "image/png": "[encoded data removed]",
      "text/plain": [
       "<Figure size 432x288 with 1 Axes>"
      ]
     },
     "metadata": {
      "needs_background": "light"
     },
     "output_type": "display_data"
    }
   ],
   "source": [
    "ccw_order = ['A', 'B', 'C', 'D', 'E', 'F', 'G', 'T']\n",
    "sns.barplot(x=cabin_count_won.value_counts().index, y=cabin_count_won.value_counts(), order=ccw_order).set_title('Cabin Sections')\n",
    "plt.show()"
   ]
  },
  {
   "cell_type": "markdown",
   "id": "f9e96191",
   "metadata": {},
   "source": [
    "Most passengers were in Cabin Section C. Let's see which section had the highest survival rate."
   ]
  },
  {
   "cell_type": "code",
   "execution_count": 44,
   "id": "fc06b862",
   "metadata": {},
   "outputs": [
    {
     "name": "stdout",
     "output_type": "stream",
     "text": [
      "Cabin Section ['n']: 30.0% Survival Rate\n",
      "Cabin Section ['C']: 59.0% Survival Rate\n",
      "Cabin Section ['E']: 75.0% Survival Rate\n",
      "Cabin Section ['G']: 50.0% Survival Rate\n",
      "Cabin Section ['D']: 76.0% Survival Rate\n",
      "Cabin Section ['A']: 47.0% Survival Rate\n",
      "Cabin Section ['B']: 74.0% Survival Rate\n",
      "Cabin Section ['F']: 62.0% Survival Rate\n",
      "Cabin Section ['T']: 0.0% Survival Rate\n"
     ]
    }
   ],
   "source": [
    "for i in data['cabin_section'].unique():\n",
    "    print('Cabin Section '+str([i])+': '+str(round((((len(data[data['cabin_section']==i][data['Survived']==1].index))/(len(data[data['cabin_section']==i].index)))*100),0))+'% Survival Rate')"
   ]
  },
  {
   "cell_type": "markdown",
   "id": "8a73dbe4",
   "metadata": {},
   "source": [
    "Sections B, D, and E are pretty close in survival rate. According to the bar plot, each of the three cabins have sufficient sample sizes, so all three can be assessed. Out of the three, D was the highest with a 76% survival rate.\n",
    "### Cabin Section D"
   ]
  },
  {
   "cell_type": "markdown",
   "id": "5c4aa888",
   "metadata": {},
   "source": [
    "## Port of Departure\n",
    "The final piece to our story is where our passenger departed from. There were three ports: Cherbourg, Queenstown, and Southampton. We'll use a pivot table to consider the data."
   ]
  },
  {
   "cell_type": "code",
   "execution_count": 16,
   "id": "1d702217",
   "metadata": {},
   "outputs": [
    {
     "data": {
      "text/html": [
       "<div>\n",
       "<style scoped>\n",
       "    .dataframe tbody tr th:only-of-type {\n",
       "        vertical-align: middle;\n",
       "    }\n",
       "\n",
       "    .dataframe tbody tr th {\n",
       "        vertical-align: top;\n",
       "    }\n",
       "\n",
       "    .dataframe thead th {\n",
       "        text-align: right;\n",
       "    }\n",
       "</style>\n",
       "<table border=\"1\" class=\"dataframe\">\n",
       "  <thead>\n",
       "    <tr style=\"text-align: right;\">\n",
       "      <th>Embarked</th>\n",
       "      <th>C</th>\n",
       "      <th>Q</th>\n",
       "      <th>S</th>\n",
       "    </tr>\n",
       "    <tr>\n",
       "      <th>Survived</th>\n",
       "      <th></th>\n",
       "      <th></th>\n",
       "      <th></th>\n",
       "    </tr>\n",
       "  </thead>\n",
       "  <tbody>\n",
       "    <tr>\n",
       "      <th>0</th>\n",
       "      <td>75</td>\n",
       "      <td>47</td>\n",
       "      <td>427</td>\n",
       "    </tr>\n",
       "    <tr>\n",
       "      <th>1</th>\n",
       "      <td>93</td>\n",
       "      <td>30</td>\n",
       "      <td>217</td>\n",
       "    </tr>\n",
       "  </tbody>\n",
       "</table>\n",
       "</div>"
      ],
      "text/plain": [
       "Embarked   C   Q    S\n",
       "Survived             \n",
       "0         75  47  427\n",
       "1         93  30  217"
      ]
     },
     "execution_count": 16,
     "metadata": {},
     "output_type": "execute_result"
    }
   ],
   "source": [
    "pd.pivot_table(data, index = 'Survived', columns = 'Embarked', values = 'Ticket', aggfunc = 'count')"
   ]
  },
  {
   "cell_type": "markdown",
   "id": "9098b3c0",
   "metadata": {},
   "source": [
    "Cherbourg (represented by C) is the only port with more survived than died. Perhaps this port was from a higher class area.\n",
    "### Port: Cherbourg"
   ]
  },
  {
   "cell_type": "markdown",
   "id": "7fe0d9ec",
   "metadata": {},
   "source": [
    "# The Luckiest Passenger - Mrs. Anna Abelson"
   ]
  },
  {
   "cell_type": "code",
   "execution_count": 46,
   "id": "d737b946",
   "metadata": {},
   "outputs": [
    {
     "data": {
      "image/jpeg": "[encoded data removed]",
      "text/plain": [
       "<IPython.core.display.Image object>"
      ]
     },
     "metadata": {},
     "output_type": "display_data"
    }
   ],
   "source": [
    "display(Image(filename='anna.jpeg'))"
   ]
  },
  {
   "cell_type": "markdown",
   "id": "5862194b",
   "metadata": {},
   "source": [
    "## **Mrs. Anna Abelson (Age 28)**\n",
    "#### Cabin D Class 2\n",
    "#### Cherbourg\n",
    "#### 0 children, late husband\n",
    "#### $24"
   ]
  },
  {
   "cell_type": "code",
   "execution_count": null,
   "id": "99a67453",
   "metadata": {},
   "outputs": [],
   "source": []
  }
 ],
 "metadata": {
  "kernelspec": {
   "display_name": "Python 3 (ipykernel)",
   "language": "python",
   "name": "python3"
  },
  "language_info": {
   "codemirror_mode": {
    "name": "ipython",
    "version": 3
   },
   "file_extension": ".py",
   "mimetype": "text/x-python",
   "name": "python",
   "nbconvert_exporter": "python",
   "pygments_lexer": "ipython3",
   "version": "3.9.7"
  }
 },
 "nbformat": 4,
 "nbformat_minor": 5
}
